{
 "cells": [
  {
   "cell_type": "markdown",
   "id": "84b35d2d",
   "metadata": {},
   "source": [
    "# Tutorial: Meta-Learned Models of Cognition"
   ]
  },
  {
   "cell_type": "markdown",
   "id": "cc11d470",
   "metadata": {},
   "source": [
    "## Data-Generating Distribution\n",
    "\n",
    "Let $[x_1^i, x_2^i, \\ldots, x_t^i, x_{t+1}^i]$ be a series of length measurements from species $i$.\n",
    "\n",
    "We assume the following data-generating process:\n",
    "\n",
    "$\\begin{align}\n",
    "    p(\\mu,  x_{1:{t+1}}) &= p(x_{1:{t+1}} | \\mu) p(\\mu)  \\\\\n",
    "    p(x_{1:{t+1}} | \\mu) &= \\prod_{k=1}^{t+1} p(x_{k} | \\mu) = \\prod_{k=1}^{t+1} \\mathcal{N}(x_{k}; \\mu, 1) \\\\\n",
    "    p(\\mu) &= \\mathcal{N}(\\mu; 0, 1)    \n",
    "\\end{align}$"
   ]
  },
  {
   "cell_type": "markdown",
   "id": "52157c23",
   "metadata": {},
   "source": [
    "## Bayesian Inference\n",
    "\n",
    "With these assumptions the predictive posterior distribution has the following closed-form expression:\n",
    "\n",
    "$\\begin{align}\n",
    " p(x_{t+1} | x_{1:t}) &= \\mathcal{N}(x_{t+1}; m, s) \\\\\n",
    " m &= \\left( t + 1\\right)^{-1}\\sum_{k=1}^{t} x_k  \\\\\n",
    " s &= \\sqrt{\\left( t + 1\\right)^{-1} + 1}\n",
    "\\end{align}$"
   ]
  },
  {
   "cell_type": "code",
   "execution_count": 1,
   "id": "2ee2ac06",
   "metadata": {},
   "outputs": [],
   "source": [
    "def bayesian_inference(inputs):\n",
    "    \"\"\" Performs Bayesian inference for the above data-generating process.\n",
    "    Args:\n",
    "        inputs: PyTorch Tensor of shape (num_observations, batch_size, 1)\n",
    "        \n",
    "    Returns:\n",
    "        m: PyTorch Tensor of shape (batch_size, 1)\n",
    "        s: Float\n",
    "    \"\"\"\n",
    "    t = inputs.shape[0]\n",
    "    m = 1/(t+1) * inputs.sum(0)\n",
    "    s = math.sqrt((1 / (t+1)) + 1)\n",
    "    return m, s"
   ]
  },
  {
   "cell_type": "markdown",
   "id": "82aabe71",
   "metadata": {},
   "source": [
    "## Meta-Learning\n",
    "\n",
    "We train a neural network to maximize the following equation:\n",
    "\n",
    "\\begin{equation} \n",
    "      \\pmb{\\Theta}^* \\approx \\text{arg}\\max_{\\pmb{\\Theta}} \\frac{1}{M}\\sum  \\log q_{\\pmb{\\Theta}}(x_{t+1} | x_{1:t})\n",
    "\\end{equation}\n",
    "\n",
    "Meta-Learning Algorithm: \n",
    "\n",
    "1. Sample a batch of tasks from the data-generating distribution.\n",
    "2. Pass the sequence of observations through the network and generate the approximate predictive posterior distribution.\n",
    "3. Perform a gradient step on the above objective.\n",
    "4. Repeat until convergence."
   ]
  },
  {
   "cell_type": "markdown",
   "id": "53ddf34b",
   "metadata": {},
   "source": [
    "### 1. Sample a batch of tasks from the data-generating distribution."
   ]
  },
  {
   "cell_type": "code",
   "execution_count": 2,
   "id": "574d22db",
   "metadata": {},
   "outputs": [
    {
     "name": "stdout",
     "output_type": "stream",
     "text": [
      "torch.Size([16, 1])\n",
      "torch.Size([7, 16, 1])\n"
     ]
    },
    {
     "data": {
      "image/png": "[encoded data removed]",
      "text/plain": [
       "<Figure size 720x432 with 1 Axes>"
      ]
     },
     "metadata": {
      "needs_background": "light"
     },
     "output_type": "display_data"
    }
   ],
   "source": [
    "import math\n",
    "import torch\n",
    "from tqdm import tqdm\n",
    "from torch.distributions import Normal\n",
    "import matplotlib.pyplot as plt\n",
    "import seaborn as sns\n",
    "\n",
    "plt.rcParams[\"figure.figsize\"] = (10,6)\n",
    "batch_size = 16\n",
    "seq_length = 7\n",
    "\n",
    "# sample from the prior\n",
    "mu = Normal(torch.zeros(1), 1).sample((batch_size,))\n",
    "print(mu.shape)\n",
    "\n",
    "# sample from the likelihood\n",
    "x_test = Normal(mu, 1).sample((seq_length,))\n",
    "print(x_test.shape)\n",
    "\n",
    "# plot the data\n",
    "plt.scatter(x_test[:, 0, 0], torch.zeros(seq_length), marker='x')\n",
    "plt.axvline(mu[0, 0], color='C1', ls='--')\n",
    "sns.despine()"
   ]
  },
  {
   "cell_type": "markdown",
   "id": "90fa34b2",
   "metadata": {},
   "source": [
    "### 2. Pass the sequence of observations through the network and generate the approximate predictive posterior distribution.\n",
    "\n",
    "<img src=\"rnn.png\">"
   ]
  },
  {
   "cell_type": "code",
   "execution_count": 3,
   "id": "33c9e006",
   "metadata": {},
   "outputs": [
    {
     "data": {
      "image/png": "[encoded data removed]",
      "text/plain": [
       "<Figure size 720x432 with 1 Axes>"
      ]
     },
     "metadata": {
      "needs_background": "light"
     },
     "output_type": "display_data"
    }
   ],
   "source": [
    "class MetaLearner(torch.nn.Module):\n",
    "    def __init__(self, num_hidden=256):\n",
    "        super(MetaLearner, self).__init__()\n",
    "        \n",
    "        self.rnn = torch.nn.LSTM(1, num_hidden)\n",
    "        self.linear_mu = torch.nn.Linear(num_hidden, 1)\n",
    "        self.linear_logstd = torch.nn.Linear(num_hidden, 1)\n",
    "\n",
    "    def forward(self, inputs):\n",
    "        \"\"\"\n",
    "        Args:\n",
    "            inputs (Tensor): PyTorch tensor of size (seq_length, batch_size, 1)\n",
    "        \n",
    "        Returns:\n",
    "            Normal object: Normal distribution object with dimensions (batch_size, 1)\n",
    "        \"\"\"\n",
    "        hidden, _ = self.rnn(inputs)\n",
    "        hidden = hidden[-1]\n",
    "        \n",
    "        mu = self.linear_mu(hidden)\n",
    "        std = torch.exp(self.linear_logstd(hidden))\n",
    "        \n",
    "        return Normal(mu, std)\n",
    "\n",
    "# infer the predictive posterior using the untrained algorithm\n",
    "network = MetaLearner()\n",
    "predictive_posterior = network(x_test[:seq_length-1])\n",
    "\n",
    "# infer the predictive posterior using exact Bayesian inference\n",
    "m, s = bayesian_inference(x_test[:seq_length-1])\n",
    "\n",
    "  \n",
    "# plot the results\n",
    "with torch.no_grad():\n",
    "    plt.scatter(predictive_posterior.loc.squeeze(), predictive_posterior.scale.squeeze(), alpha=0.8, marker='s', s=10)\n",
    "    plt.scatter(m.squeeze(), torch.ones(batch_size) * s, alpha=0.8, marker='s', s=10, color='C1')\n",
    "    \n",
    "    plt.legend(['meta-learned', 'exact'], frameon=False)\n",
    "    plt.xlabel('Mean')\n",
    "    plt.ylabel('Standard Deviation')\n",
    "    \n",
    "    X = torch.stack((predictive_posterior.loc[:, 0], m[:, 0]))\n",
    "    Y = torch.stack((predictive_posterior.scale[:, 0], torch.ones(batch_size) * s))\n",
    "\n",
    "    plt.plot(X.detach(),\n",
    "             Y.detach(),\n",
    "             color='black', alpha=0.1, ls='--')\n",
    "\n",
    "    sns.despine()\n",
    "    plt.xlim(-2, 2)\n",
    "    plt.ylim(0.7, 1.3)"
   ]
  },
  {
   "cell_type": "markdown",
   "id": "a4accf7e",
   "metadata": {},
   "source": [
    "### 3. Perform a gradient step on the above objective."
   ]
  },
  {
   "cell_type": "code",
   "execution_count": 4,
   "id": "fc803dba",
   "metadata": {},
   "outputs": [],
   "source": [
    "optimizer = torch.optim.SGD(network.parameters(), lr=0.1)\n",
    "\n",
    "loss = -predictive_posterior.log_prob(x_test[-1]).mean()\n",
    "\n",
    "optimizer.zero_grad()\n",
    "loss.backward()\n",
    "torch.nn.utils.clip_grad_norm_(network.parameters(), 40.0)\n",
    "optimizer.step()"
   ]
  },
  {
   "cell_type": "markdown",
   "id": "67af2852",
   "metadata": {},
   "source": [
    "### 4. Repeat until convergence."
   ]
  },
  {
   "cell_type": "code",
   "execution_count": 5,
   "id": "631b4472",
   "metadata": {},
   "outputs": [
    {
     "name": "stderr",
     "output_type": "stream",
     "text": [
      "100%|██████████████████████████████████| 100000/100000 [13:31<00:00, 123.29it/s]\n"
     ]
    }
   ],
   "source": [
    "class MetaLearner(torch.nn.Module):\n",
    "    def __init__(self, num_hidden=256):\n",
    "        super(MetaLearner, self).__init__()\n",
    "        \n",
    "        self.rnn = torch.nn.LSTM(1, num_hidden)\n",
    "        self.linear_mu = torch.nn.Linear(num_hidden, 1)\n",
    "        self.linear_logstd = torch.nn.Linear(num_hidden, 1)\n",
    "\n",
    "    def forward(self, inputs):\n",
    "        \"\"\"\n",
    "        Args:\n",
    "            inputs (Tensor): PyTorch tensor of size (seq_length, batch_size, 1)\n",
    "        \n",
    "        Returns:\n",
    "            Normal object: Normal distribution object with dimensions (batch_size, 1)\n",
    "        \"\"\"\n",
    "        hidden, _ = self.rnn(inputs)\n",
    "        hidden = hidden[-1]\n",
    "        \n",
    "        mu = self.linear_mu(hidden)\n",
    "        std = torch.exp(self.linear_logstd(hidden))\n",
    "        \n",
    "        return Normal(mu, std)\n",
    "\n",
    "iterations = 100000\n",
    "batch_size = 16\n",
    "seq_length = 7\n",
    "\n",
    "network = MetaLearner()\n",
    "optimizer = torch.optim.SGD(network.parameters(), lr=0.1)\n",
    "scheduler = torch.optim.lr_scheduler.StepLR(optimizer, step_size=1, gamma=0.9999)\n",
    "\n",
    "# 4. Repeat until convergence.\n",
    "for t in tqdm(range(iterations)):\n",
    "    \n",
    "    # 1. Sample a batch of tasks from the data-generating distribution.\n",
    "    mu = Normal(torch.zeros(1), 1).sample((batch_size,))\n",
    "    x = Normal(mu, 1).sample((seq_length,))\n",
    "    \n",
    "    # 2. Pass the sequence of observations through the network and generate the approximate predictive posterior distribution.\n",
    "    predictive_posterior = network(x[:seq_length-1])\n",
    "    \n",
    "    # 3. Perform a gradient step on the above objective.\n",
    "    loss = -predictive_posterior.log_prob(x[-1]).mean()\n",
    "    \n",
    "    optimizer.zero_grad()\n",
    "    loss.backward()\n",
    "    torch.nn.utils.clip_grad_norm_(network.parameters(), 40.0)\n",
    "    optimizer.step()\n",
    "    scheduler.step()"
   ]
  },
  {
   "cell_type": "markdown",
   "id": "11a747f1",
   "metadata": {},
   "source": [
    "### Testing the meta-learned algorithm"
   ]
  },
  {
   "cell_type": "code",
   "execution_count": 10,
   "id": "e39757f4",
   "metadata": {},
   "outputs": [
    {
     "data": {
      "image/png": "[encoded data removed]",
      "text/plain": [
       "<Figure size 720x432 with 1 Axes>"
      ]
     },
     "metadata": {
      "needs_background": "light"
     },
     "output_type": "display_data"
    }
   ],
   "source": [
    "# infer the predictive posterior using the meta-learned algorithm\n",
    "predictive_posterior = network(x_test[:seq_length-1])\n",
    "\n",
    "# infer the predictive posterior using exact Bayesian inference\n",
    "m, s = bayesian_inference(x_test[:seq_length-1])\n",
    "\n",
    "# plot the results\n",
    "with torch.no_grad():\n",
    "    plt.scatter(predictive_posterior.loc.squeeze(), predictive_posterior.scale.squeeze(), alpha=0.8, marker='s', s=10)\n",
    "    plt.scatter(m.squeeze(), torch.ones(batch_size) * s, alpha=0.8, marker='s', s=10, color='C1')\n",
    "    \n",
    "    plt.legend(['meta-learned', 'exact'], frameon=False)\n",
    "    plt.xlabel('Mean')\n",
    "    plt.ylabel('Standard Deviation')\n",
    "    \n",
    "    X = torch.stack((predictive_posterior.loc[:, 0], m[:, 0]))\n",
    "    Y = torch.stack((predictive_posterior.scale[:, 0], torch.ones(batch_size) * s))\n",
    "\n",
    "    plt.plot(X.detach(),\n",
    "             Y.detach(),\n",
    "             color='black', alpha=0.1, ls='--')\n",
    "\n",
    "    sns.despine()\n",
    "    plt.xlim(-2, 2)\n",
    "    plt.ylim(0.7, 1.3)\n",
    "    plt.savefig('after.pdf')"
   ]
  },
  {
   "cell_type": "code",
   "execution_count": null,
   "id": "d276cd60",
   "metadata": {},
   "outputs": [],
   "source": []
  }
 ],
 "metadata": {
  "kernelspec": {
   "display_name": "Python 3 (ipykernel)",
   "language": "python",
   "name": "python3"
  },
  "language_info": {
   "codemirror_mode": {
    "name": "ipython",
    "version": 3
   },
   "file_extension": ".py",
   "mimetype": "text/x-python",
   "name": "python",
   "nbconvert_exporter": "python",
   "pygments_lexer": "ipython3",
   "version": "3.8.12"
  }
 },
 "nbformat": 4,
 "nbformat_minor": 5
}
